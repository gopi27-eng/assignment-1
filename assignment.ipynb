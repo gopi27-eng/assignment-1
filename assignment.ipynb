{
  "nbformat": 4,
  "nbformat_minor": 0,
  "metadata": {
    "colab": {
      "provenance": []
    },
    "kernelspec": {
      "name": "python3",
      "display_name": "Python 3"
    },
    "language_info": {
      "name": "python"
    }
  },
  "cells": [
    {
      "cell_type": "code",
      "execution_count": null,
      "metadata": {
        "id": "5AkX8imf1usa"
      },
      "outputs": [],
      "source": []
    },
    {
      "cell_type": "markdown",
      "source": [
        "1.python  is a programming language that is easy to understant and write, making it a papular choice among davelopers and programmer.\n",
        "\n",
        "it is compatible with various programming paradigms, such as procudeural , object orianted ,and functional programming."
      ],
      "metadata": {
        "id": "HjKq48Wd2dY9"
      }
    },
    {
      "cell_type": "code",
      "source": [
        "#2. an interpreter in python excutes code line by line, rather than compiling it into machine code directly.\n",
        "#this allows for immediat excution and makers the devolopment cycle faster compared languges."
      ],
      "metadata": {
        "id": "39EMhitO4AD-"
      },
      "execution_count": 1,
      "outputs": []
    },
    {
      "cell_type": "markdown",
      "source": [],
      "metadata": {
        "id": "h46ERvVb4hWe"
      }
    },
    {
      "cell_type": "markdown",
      "source": [
        "3.pre-defined keywords are reserved word words with special meaning and fixed functions in python ."
      ],
      "metadata": {
        "id": "H_JXVJbr5BIO"
      }
    },
    {
      "cell_type": "code",
      "source": [
        "#4.  No, keywords cannot be used as variable names or any other identifiers in Python.\n",
        "   #Using a keyword will result in a SyntaxError because they have predefined roles."
      ],
      "metadata": {
        "id": "wagx5kDP5d9u"
      },
      "execution_count": 4,
      "outputs": []
    },
    {
      "cell_type": "code",
      "source": [],
      "metadata": {
        "id": "JxwsJ4Yj6ujM"
      },
      "execution_count": null,
      "outputs": []
    },
    {
      "cell_type": "markdown",
      "source": [
        "5.Mutability in Python refers to an object's ability to change its internal state or content after it's created.\n",
        "   Mutable objects, like lists and dictionaries, can be modified in place without creating a new object."
      ],
      "metadata": {
        "id": "Vn92Oy3w64s5"
      }
    },
    {
      "cell_type": "code",
      "source": [],
      "metadata": {
        "id": "IYIQuC6C7IGL"
      },
      "execution_count": null,
      "outputs": []
    },
    {
      "cell_type": "markdown",
      "source": [
        "6. Lists are mutable because you can add, remove, or change elements within the existing list objet"
      ],
      "metadata": {
        "id": "UtEX1gG87JN6"
      }
    },
    {
      "cell_type": "code",
      "source": [],
      "metadata": {
        "id": "TqRwiWV97Sk5"
      },
      "execution_count": null,
      "outputs": []
    },
    {
      "cell_type": "markdown",
      "source": [
        "7.The = operator is used for variable assignment, assigning a value to a name.\n",
        "   The is operator checks if two variables point to the exact same object in memory."
      ],
      "metadata": {
        "id": "ENjmIXcg741a"
      }
    },
    {
      "cell_type": "markdown",
      "source": [
        "8.Logical operators (and, or, not) combine or modify boolean expressions.\n",
        "   They are used to perform logical operations and return a boolean result (True or False)."
      ],
      "metadata": {
        "id": "0M3xfeyf7eYu"
      }
    },
    {
      "cell_type": "code",
      "source": [],
      "metadata": {
        "id": "wl0ZojIb8LVz"
      },
      "execution_count": null,
      "outputs": []
    },
    {
      "cell_type": "markdown",
      "source": [
        "9.Type casting (or type conversion) is changing the data type of a variable or value into another type.\n",
        "   It is necessary when performing operations that require specific data types"
      ],
      "metadata": {
        "id": "maOPI5vm8MMl"
      }
    },
    {
      "cell_type": "code",
      "source": [],
      "metadata": {
        "id": "MBopJM-m8Tfa"
      },
      "execution_count": null,
      "outputs": []
    },
    {
      "cell_type": "markdown",
      "source": [
        "10. Implicit type casting is automatically done by Python during operations where data types are mixed."
      ],
      "metadata": {
        "id": "SoUVZKwo8U2f"
      }
    },
    {
      "cell_type": "code",
      "source": [],
      "metadata": {
        "id": "DDBgWERp8aKi"
      },
      "execution_count": null,
      "outputs": []
    },
    {
      "cell_type": "markdown",
      "source": [
        "11.Conditional statements control the flow of program execution based on specified conditions.\n",
        "   They allow the program to make decisions and run different code blocks depending on whether conditions are true or false."
      ],
      "metadata": {
        "id": "oFeq2QzW8cM_"
      }
    },
    {
      "cell_type": "code",
      "source": [],
      "metadata": {
        "id": "bvV7-wdr8lO6"
      },
      "execution_count": null,
      "outputs": []
    },
    {
      "cell_type": "markdown",
      "source": [
        "12.The elif statement is short for \"else if\" and checks an additional condition if the preceding if or elif conditions were false.\n",
        "   It provides a way to test multiple conditions sequentially without nesting numerous if statements."
      ],
      "metadata": {
        "id": "tXHVp4R68l89"
      }
    },
    {
      "cell_type": "code",
      "source": [],
      "metadata": {
        "id": "QDP11YIg8tp_"
      },
      "execution_count": null,
      "outputs": []
    },
    {
      "cell_type": "markdown",
      "source": [
        "13.A for loop iterates over a sequence of elements for a predetermined number of times.\n",
        "   A while loop continues to execute as long as a specified condition remains true, suitable when the number of iterations is unknown."
      ],
      "metadata": {
        "id": "c9Wfms-V8vlP"
      }
    },
    {
      "cell_type": "code",
      "source": [],
      "metadata": {
        "id": "_hYsCwJu85se"
      },
      "execution_count": null,
      "outputs": []
    },
    {
      "cell_type": "markdown",
      "source": [
        "14.A while loop is more suitable for scenarios where the loop should continue until an external condition changes, like user input or file status.\n",
        "   For example, prompting a user for input repeatedly until valid data is entered is best handled with a while loop."
      ],
      "metadata": {
        "id": "IBgFRBAN86sT"
      }
    },
    {
      "cell_type": "code",
      "source": [
        "#practical questens\n",
        "#1\n",
        "print(\"hell world\")"
      ],
      "metadata": {
        "colab": {
          "base_uri": "https://localhost:8080/"
        },
        "id": "wYr8MTuH9Anq",
        "outputId": "17457ab5-9883-4bb1-c53a-73c3f67a5aec"
      },
      "execution_count": 5,
      "outputs": [
        {
          "output_type": "stream",
          "name": "stdout",
          "text": [
            "hell world\n"
          ]
        }
      ]
    },
    {
      "cell_type": "code",
      "source": [
        "#2\n",
        "name=\"borra gopi\"\n",
        "age=\"29\"\n",
        "print(\"my name is\",name)\n",
        "print(\"my age is\",age)"
      ],
      "metadata": {
        "colab": {
          "base_uri": "https://localhost:8080/"
        },
        "id": "mKR2GLH9-ELK",
        "outputId": "dc666731-cbcc-40e4-94d5-2dc0da19ed3e"
      },
      "execution_count": 8,
      "outputs": [
        {
          "output_type": "stream",
          "name": "stdout",
          "text": [
            "my name is borra gopi\n",
            "my age is 29\n"
          ]
        }
      ]
    },
    {
      "cell_type": "code",
      "source": [
        "#3\n",
        "import keyword\n",
        "print(keyword.kwlist)"
      ],
      "metadata": {
        "colab": {
          "base_uri": "https://localhost:8080/"
        },
        "id": "9aj2-hvG-xm2",
        "outputId": "acdc99d3-a9ec-49ea-94de-905f96d9cf6c"
      },
      "execution_count": 12,
      "outputs": [
        {
          "output_type": "stream",
          "name": "stdout",
          "text": [
            "['False', 'None', 'True', 'and', 'as', 'assert', 'async', 'await', 'break', 'class', 'continue', 'def', 'del', 'elif', 'else', 'except', 'finally', 'for', 'from', 'global', 'if', 'import', 'in', 'is', 'lambda', 'nonlocal', 'not', 'or', 'pass', 'raise', 'return', 'try', 'while', 'with', 'yield']\n"
          ]
        }
      ]
    },
    {
      "cell_type": "code",
      "source": [
        "#4\n",
        "import keyword\n",
        "word = \"if\"\n",
        "if word in keyword.kwlist:\n",
        "    print(f\"{word} is a keyword in Python.\")\n",
        "else:\n",
        "    print(f\"{word} is not a keyword in Python.\")"
      ],
      "metadata": {
        "colab": {
          "base_uri": "https://localhost:8080/"
        },
        "id": "WvQQ6Rrv_Z3B",
        "outputId": "fb480463-7447-4206-a11d-a0e23ca769ad"
      },
      "execution_count": 13,
      "outputs": [
        {
          "output_type": "stream",
          "name": "stdout",
          "text": [
            "if is a keyword in Python.\n"
          ]
        }
      ]
    },
    {
      "cell_type": "code",
      "source": [
        "#5\n",
        "#list(mutable)\n",
        "my_list = [1, 2, 3]\n",
        "print(\"original list:\", my_list)\n",
        "my_list[0]=10\n",
        "print(\"modified list:\", my_list)\n",
        "\n",
        "#tuble(immutable)\n",
        "my_tuple = (1, 2, 3)\n",
        "print(\"original tuple:\", my_tuple)\n",
        "\n",
        "#attempting to change an element in a tuble will raise a typrerror\n",
        "try:\n",
        "    my_tuple[0] = 10\n",
        "except TypeError as e:\n",
        "    print(\"Error:\", e)\n"
      ],
      "metadata": {
        "colab": {
          "base_uri": "https://localhost:8080/"
        },
        "id": "ebRlB9PAAgSl",
        "outputId": "fc6db420-c77d-4ae1-a1c3-90e162dbe2c0"
      },
      "execution_count": 14,
      "outputs": [
        {
          "output_type": "stream",
          "name": "stdout",
          "text": [
            "original list: [1, 2, 3]\n",
            "modified list: [10, 2, 3]\n",
            "original tuple: (1, 2, 3)\n",
            "Error: 'tuple' object does not support item assignment\n"
          ]
        }
      ]
    },
    {
      "cell_type": "code",
      "source": [
        "#6\n",
        "def modify_list(my_list):\n",
        "  \"\"\"Demonstrates mutable argument behavior.\"\"\"\n",
        "  my_list.append(4)\n",
        "  print(\"Inside function (mutable):\", my_list)\n",
        "\n",
        "def modify_string(my_string):\n",
        "  \"\"\"Demonstrates immutable argument behavior.\"\"\"\n",
        "  my_string = my_string + \" world\"\n",
        "  print(\"Inside function (immutable):\", my_string)\n",
        "\n",
        "# Mutable argument example\n",
        "list_arg = [1, 2, 3]\n",
        "print(\"Outside function (before mutable):\", list_arg)\n",
        "modify_list(list_arg)\n",
        "print(\"Outside function (after mutable):\", list_arg)\n",
        "\n",
        "# Immutable argument example\n",
        "string_arg = \"Hello\"\n",
        "print(\"Outside function (before immutable):\", string_arg)\n",
        "modify_string(string_arg)\n",
        "print(\"Outside function (after immutable):\", string_arg)"
      ],
      "metadata": {
        "colab": {
          "base_uri": "https://localhost:8080/"
        },
        "id": "0xixb2S7CMQy",
        "outputId": "8a3f36f6-6e6d-478c-c1ec-78ca7348b354"
      },
      "execution_count": 16,
      "outputs": [
        {
          "output_type": "stream",
          "name": "stdout",
          "text": [
            "Outside function (before mutable): [1, 2, 3]\n",
            "Inside function (mutable): [1, 2, 3, 4]\n",
            "Outside function (after mutable): [1, 2, 3, 4]\n",
            "Outside function (before immutable): Hello\n",
            "Inside function (immutable): Hello world\n",
            "Outside function (after immutable): Hello\n"
          ]
        }
      ]
    },
    {
      "cell_type": "code",
      "source": [
        "#7\n",
        "num1 = float(input(\"Enter first number: \"))\n",
        "num2 = float(input(\"Enter second number: \"))\n",
        "\n",
        "print(\"Sum:\", num1 + num2)\n",
        "print(\"Difference:\", num1 - num2)\n",
        "print(\"Product:\", num1 * num2)\n",
        "if num2 != 0:\n",
        "    print(\"Division:\", num1 / num2)\n",
        "else:\n",
        "    print(\"Cannot divide by zero\")\n",
        ""
      ],
      "metadata": {
        "colab": {
          "base_uri": "https://localhost:8080/"
        },
        "id": "nhiw-EneChV1",
        "outputId": "d3b7a0f9-c97b-426d-b21a-a30c57288c00"
      },
      "execution_count": 17,
      "outputs": [
        {
          "output_type": "stream",
          "name": "stdout",
          "text": [
            "Enter first number: 1\n",
            "Enter second number: 3\n",
            "Sum: 4.0\n",
            "Difference: -2.0\n",
            "Product: 3.0\n",
            "Division: 0.3333333333333333\n"
          ]
        }
      ]
    },
    {
      "cell_type": "code",
      "source": [
        "#8\n",
        "x = 10\n",
        "y = 5\n",
        "z = 15\n",
        "\n",
        "print(\"x > y and x < z:\", x > y and x < z) # True and True -> True\n",
        "print(\"x > z or y < z:\", x > z or y < z)   # False or True -> True\n",
        "print(\"not(x > y):\", not(x > y))           # not(True) -> False"
      ],
      "metadata": {
        "colab": {
          "base_uri": "https://localhost:8080/"
        },
        "id": "baqpTXqVC8yQ",
        "outputId": "077e2118-9b58-4491-d074-f65cf922f562"
      },
      "execution_count": 18,
      "outputs": [
        {
          "output_type": "stream",
          "name": "stdout",
          "text": [
            "x > y and x < z: True\n",
            "x > z or y < z: True\n",
            "not(x > y): False\n"
          ]
        }
      ]
    },
    {
      "cell_type": "code",
      "source": [
        "#9\n",
        "input_str = input(\"Enter a value: \")\n",
        "\n",
        "# Convert to integer\n",
        "try:\n",
        "    int_val = int(input_str)\n",
        "    print(\"Converted to integer:\", int_val)\n",
        "except ValueError:\n",
        "    print(\"Cannot convert to integer\")\n",
        "\n",
        "# Convert to float\n",
        "try:\n",
        "    float_val = float(input_str)\n",
        "    print(\"Converted to float:\", float_val)\n",
        "except ValueError:\n",
        "    print(\"Cannot convert to float\")\n",
        "\n",
        "# Convert to boolean (basic example - more robust logic might be needed for real applications)\n",
        "# Considered True if the input is 'True' (case-insensitive) or a non-zero number\n",
        "# Considered False otherwise\n",
        "bool_val = input_str.lower() == 'true' or (input_str.isdigit() and int(input_str) != 0)\n",
        "print(\"Converted to boolean:\", bool_val)"
      ],
      "metadata": {
        "colab": {
          "base_uri": "https://localhost:8080/"
        },
        "id": "ZLexi5muDiKM",
        "outputId": "e2f9ee89-3bb5-404a-da89-16adfc6fdeff"
      },
      "execution_count": 19,
      "outputs": [
        {
          "output_type": "stream",
          "name": "stdout",
          "text": [
            "Enter a value: 20\n",
            "Converted to integer: 20\n",
            "Converted to float: 20.0\n",
            "Converted to boolean: True\n"
          ]
        }
      ]
    },
    {
      "cell_type": "code",
      "source": [
        "#11\n",
        "num = float(input(\"Enter a number: \"))\n",
        "\n",
        "if num > 0:\n",
        "    print(\"The number is positive.\")\n",
        "elif num < 0:\n",
        "    print(\"The number is negative.\")\n",
        "else:\n",
        "    print(\"The number is zero.\")\n"
      ],
      "metadata": {
        "colab": {
          "base_uri": "https://localhost:8080/"
        },
        "id": "NgW8iMVPD1kb",
        "outputId": "44814467-77b2-40a5-a151-2da87d82e2c2"
      },
      "execution_count": 21,
      "outputs": [
        {
          "output_type": "stream",
          "name": "stdout",
          "text": [
            "Enter a number: 20\n",
            "The number is positive.\n"
          ]
        }
      ]
    },
    {
      "cell_type": "code",
      "source": [
        "#12\n",
        "for i in range (1,11):\n",
        "  print(i)"
      ],
      "metadata": {
        "colab": {
          "base_uri": "https://localhost:8080/"
        },
        "id": "LguL6ljCEsaF",
        "outputId": "a5c40835-8661-428f-ab59-1b70bd458f55"
      },
      "execution_count": 23,
      "outputs": [
        {
          "output_type": "stream",
          "name": "stdout",
          "text": [
            "1\n",
            "2\n",
            "3\n",
            "4\n",
            "5\n",
            "6\n",
            "7\n",
            "8\n",
            "9\n",
            "10\n"
          ]
        }
      ]
    },
    {
      "cell_type": "code",
      "source": [
        "sum_of_evens = 0\n",
        "for i in range (2,51,2):\n",
        "  sum_of_evens+=i\n",
        "print(\"sum_of even numbers between 1 and 50 is:\",sum_of_evens )"
      ],
      "metadata": {
        "colab": {
          "base_uri": "https://localhost:8080/"
        },
        "id": "rgyXMu_CFPJh",
        "outputId": "655516c4-0fbe-46b1-fa59-c8f95a99ea57"
      },
      "execution_count": 24,
      "outputs": [
        {
          "output_type": "stream",
          "name": "stdout",
          "text": [
            "sum_of even numbers between 1 and 50 is: 650\n"
          ]
        }
      ]
    },
    {
      "cell_type": "code",
      "source": [
        "#14\n",
        "my_string = \"Hello\"\n",
        "reversed_string = \"\"\n",
        "index = len(my_string) - 1\n",
        "\n",
        "while index >= 0:\n",
        "    reversed_string += my_string[index]\n",
        "    index -= 1\n",
        "\n",
        "print(\"Original string:\", my_string)\n",
        "print(\"Reversed string:\", reversed_string)"
      ],
      "metadata": {
        "colab": {
          "base_uri": "https://localhost:8080/"
        },
        "id": "Z6OTXG81GELw",
        "outputId": "23df1d0f-f3eb-4a03-a998-bb116e4125b7"
      },
      "execution_count": 25,
      "outputs": [
        {
          "output_type": "stream",
          "name": "stdout",
          "text": [
            "Original string: Hello\n",
            "Reversed string: olleH\n"
          ]
        }
      ]
    },
    {
      "cell_type": "code",
      "source": [
        "#15\n",
        "num = int(input(\"Enter a non-negative integer: \"))\n",
        "\n",
        "if num < 0:\n",
        "    print(\"Factorial does not exist for negative numbers\")\n",
        "elif num == 0:\n",
        "    print(\"The factorial of 0 is 1\")\n",
        "else:\n",
        "    factorial = 1\n",
        "    i = 1\n",
        "    while i <= num:\n",
        "        factorial *= i\n",
        "        i += 1\n",
        "    print(f\"The factorial of {num} is {factorial}\")"
      ],
      "metadata": {
        "colab": {
          "base_uri": "https://localhost:8080/"
        },
        "id": "jjXgf2jeGdor",
        "outputId": "68a23d9a-e7dd-40ec-adb9-370b29f4f8e0"
      },
      "execution_count": 26,
      "outputs": [
        {
          "output_type": "stream",
          "name": "stdout",
          "text": [
            "Enter a non-negative integer: 2\n",
            "The factorial of 2 is 2\n"
          ]
        }
      ]
    },
    {
      "cell_type": "code",
      "source": [],
      "metadata": {
        "id": "2zbcfRR2GrLb"
      },
      "execution_count": 26,
      "outputs": []
    }
  ]
}